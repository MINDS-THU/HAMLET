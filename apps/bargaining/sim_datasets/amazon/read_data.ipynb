{
 "cells": [
  {
   "cell_type": "markdown",
   "metadata": {},
   "source": []
  },
  {
   "cell_type": "code",
   "execution_count": 17,
   "metadata": {},
   "outputs": [],
   "source": [
    "import json\n",
    "import os\n",
    "from pprint import pprint\n",
    "\n",
    "dir='./raw_data'\n",
    "\n",
    "# for file in sorted(os.listdir(dir)):\n",
    "file = sorted(os.listdir(dir))[0]\n",
    "with open(os.path.join(dir,file)) as f:\n",
    "    products = json.load(f)"
   ]
  },
  {
   "cell_type": "code",
   "execution_count": 16,
   "metadata": {},
   "outputs": [
    {
     "data": {
      "text/plain": [
       "7"
      ]
     },
     "execution_count": 16,
     "metadata": {},
     "output_type": "execute_result"
    }
   ],
   "source": [
    "len(products)"
   ]
  },
  {
   "cell_type": "code",
   "execution_count": 19,
   "metadata": {},
   "outputs": [
    {
     "name": "stdout",
     "output_type": "stream",
     "text": [
      "{'amazon_link': 'https://www.amazon.com/dp/B000BPLNXC',\n",
      " 'amazon_title': 'Mallory USA Mallory 532 Cool-Force 26” Snowbrush with Ice '\n",
      "                 'Scraper for Car, 1 Pack',\n",
      " 'average_price': '$9.54',\n",
      " 'badge': '',\n",
      " 'category': 'automotive',\n",
      " 'current_price': '$11.65',\n",
      " 'current_price_date': 'Oct 06, 2023',\n",
      " 'description': 'The Mallory 26\" Cool Snow Tool is one of the most popular '\n",
      "                'snow brushes on the market today. Its compact design and '\n",
      "                'lightweight body make it easy to store and use. Featuring an '\n",
      "                'extra-wide scraper and a two-tone comfort grip, this brush '\n",
      "                'provides every tool needed to clear your vehicle of ice and '\n",
      "                'snow.',\n",
      " 'features': '26\" long for ample reach and compact storage\\n'\n",
      "             'Features four rows of sturdy bristles\\n'\n",
      "             'Fast Scraping: 4\" chisel ice scarper blade makes for quick front '\n",
      "             'and ice removal\\n'\n",
      "             'Comfort & Control: Contoured foam grip great for gloves or bare '\n",
      "             'hands to keep you warm and give greater control brushing\\n'\n",
      "             'Colors may vary. Like receiving a gift, be surprised by which '\n",
      "             'color you receive\\n'\n",
      "             'Built Tough: Have a problem - Our product comes with a 90-day '\n",
      "             'warranty',\n",
      " 'highest_price': '$14.10',\n",
      " 'highest_price_date': 'Dec 22, 2016',\n",
      " 'img': 'https://m.media-amazon.com/images/I/610zjqKtLDL.__AC_SX300_SY300_QL70_FMwebp_.jpg',\n",
      " 'link': 'https://camelcamelcamel.com/product/B000BPLNXC?active=price_amazon&context=popular',\n",
      " 'list_price': '$12.69',\n",
      " 'lowest_price': '$3.58',\n",
      " 'lowest_price_date': 'Feb 02, 2009',\n",
      " 'title': 'Mallory USA Mallory 532 Cool-Force 26” Snowbrush with Ice Scraper '\n",
      "          'for Car, 1 Pack'}\n"
     ]
    }
   ],
   "source": [
    "pprint(products[3])"
   ]
  },
  {
   "cell_type": "code",
   "execution_count": 20,
   "metadata": {},
   "outputs": [],
   "source": [
    "def get_buyer_seller_info(p):\n",
    "    title = p['title']\n",
    "    features = p.get('features','')\n",
    "    desc = p.get('description','')\n",
    "    if len(desc) < 5 and len(desc) < len(features):\n",
    "        desc = features\n",
    "    average_price = float(p['average_price'].removeprefix('$').replace(',','')) \n",
    "    highPrice = float(p['highest_price'].removeprefix('$').replace(',',''))\n",
    "    highPriceDate = p['highest_price_date']\n",
    "    lowPrice = float(p['lowest_price'].removeprefix('$').replace(',',''))\n",
    "    lowPriceDate = p['lowest_price_date']\n",
    "    category = p['category']\n",
    "    return title, category, average_price, {'highest_price': highPrice, 'highest_price_date': highPriceDate}, {'lowest_price': lowPrice, 'lowest_price_date': lowPriceDate}, {'buyer_item_description': desc}, {'seller_item_description':desc}\n",
    "\n",
    "def get_buyer_seller_prompt(data_record):\n",
    "    title, category, average_price, high_price_dict, low_price_dict, buyer_dict, seller_dict = get_buyer_seller_info(data_record)\n",
    "    buyer_item_description = buyer_dict['buyer_item_description']\n",
    "    buyer_item_description = f\"\"\"- Category: {category}\n",
    "- Description:\n",
    "{buyer_item_description}\n",
    "\"\"\"\n",
    "\n",
    "    seller_item_description = seller_dict['seller_item_description']\n",
    "    seller_item_description = f\"\"\"- Category: {category}\n",
    "- Description:\n",
    "{seller_item_description}\n",
    "\"\"\"\n",
    "    return title, average_price, high_price_dict, low_price_dict, buyer_item_description, seller_item_description"
   ]
  },
  {
   "cell_type": "code",
   "execution_count": 21,
   "metadata": {},
   "outputs": [
    {
     "name": "stdout",
     "output_type": "stream",
     "text": [
      "Length of dataset 930\n"
     ]
    }
   ],
   "source": [
    "import json\n",
    "import os\n",
    "\n",
    "dir='./raw_data'\n",
    "processed_data = []\n",
    "for file in sorted(os.listdir(dir)):\n",
    "    with open(os.path.join(dir,file)) as f:\n",
    "        products = json.load(f)\n",
    "        for p in products:\n",
    "            title, average_price, high_price_dict, low_price_dict, buyer_item_description, seller_item_description = get_buyer_seller_prompt(p)\n",
    "            # print(\"===\")\n",
    "            # print(buyer_initial_prompt)\n",
    "            # print(seller_initial_prompt)\n",
    "            processed_data.append({'title':title, 'average_price':average_price, 'buyer_item_description':buyer_item_description, 'seller_item_description':seller_item_description, 'highest_price_info':high_price_dict, 'lowest_price_info': low_price_dict})\n",
    "\n",
    "print(f\"Length of dataset {len(processed_data)}\")\n",
    "with open(\"processed_data.json\", \"w\") as file:\n",
    "    json.dump(processed_data, file, indent=4)"
   ]
  },
  {
   "cell_type": "code",
   "execution_count": 23,
   "metadata": {},
   "outputs": [
    {
     "name": "stdout",
     "output_type": "stream",
     "text": [
      "{'buyer_initial_prompt': 'You are a buyer negotiating the purchase of an item '\n",
      "                         'titled: Battle Born Batteries Lithium-Ion (LiFePO4) '\n",
      "                         'Deep Cycle 12V Battery 100Ah – Safe & Powerful '\n",
      "                         'Drop-In Replacement for RV, Van, Marine, Off-Grid – '\n",
      "                         'Cylindrical Cells, Internal BMS.\\n'\n",
      "                         'Your objective is to get the best possible deal '\n",
      "                         'while maintaining a friendly and engaging '\n",
      "                         'conversation. \\n'\n",
      "                         'You have the following information about the item: \\n'\n",
      "                         '- Category: automotive\\n'\n",
      "                         '- Listed Price: 925.0\\n'\n",
      "                         '- Description:\\n'\n",
      "                         'Product Description\\n'\n",
      "                         'Battle Born Batteries Lithium-Ion (LiFePO4) Deep '\n",
      "                         'Cycle 12V Battery 100Ah Battle Born Batteries '\n",
      "                         'Lithium-Ion (LiFePO4) Deep Cycle 12V Battery 100Ah '\n",
      "                         'GC2 Battle Born Batteries Lithium-Ion (LiFePO4) Deep '\n",
      "                         'Cycle 24V Battery 50Ah Battle Born Batteries '\n",
      "                         'Lithium-Ion (LiFePO4) Deep Cycle 12V Battery 270Ah '\n",
      "                         'GC3 Battle Born Batteries Lithium-Ion (LiFePO4) Deep '\n",
      "                         'Cycle 12V Battery 100Ah Heated Battle Born Batteries '\n",
      "                         'Lithium-Ion Deep Cycle 12V Battery 100Ah GC2 Heated\\n'\n",
      "                         'RV Battery ✓ ✓ ✓ ✓ ✓ ✓\\n'\n",
      "                         'Van Battery ✓ ✓ ✓ ✓ ✓ ✓\\n'\n",
      "                         'Marine Battery ✓ ✓ ✓ ✓ ✓ ✓\\n'\n",
      "                         'Off Grid Battery ✓ ✓ ✓ ✓ ✓ ✓\\n'\n",
      "                         'Made with Cylindrical Cells ✓ ✓ ✓ ✓ ✓ ✓\\n'\n",
      "                         'Amp Hours 100Ah 100Ah 50Ah 270Ah 100Ah 100Ah\\n'\n",
      "                         'Voltage 12V 12V 24V 12V 12V 12V\\n'\n",
      "                         'Internally Heated ✓ ✓\\n'\n",
      "                         'Weight 31 lbs 31 lbs 31 lbs 80.8 lbs 31 lbs 31 lbs\\n'\n",
      "                         'Dimensions 12.76 × 6.86 × 8.95 in 10.31 × 7.28 × '\n",
      "                         '11.02 in 12.75 × 6.87 × 9 in 22.83 × 7.09 × 13.15 in '\n",
      "                         '12.76 × 6.86 × 8.95 in 10.31 × 7.28 × 11.02 in\\n'\n",
      "                         'Your target price is 795.0, and you aim to negotiate '\n",
      "                         'towards this amount.\\n',\n",
      " 'seller_initial_prompt': 'You are a seller negotiating the sale of an item '\n",
      "                          'titled: Battle Born Batteries Lithium-Ion (LiFePO4) '\n",
      "                          'Deep Cycle 12V Battery 100Ah – Safe & Powerful '\n",
      "                          'Drop-In Replacement for RV, Van, Marine, Off-Grid – '\n",
      "                          'Cylindrical Cells, Internal BMS.\\n'\n",
      "                          'Your objective is to get the best possible deal '\n",
      "                          'while maintaining a friendly and engaging '\n",
      "                          'conversation. \\n'\n",
      "                          'You have the following information about the '\n",
      "                          'item: \\n'\n",
      "                          '- Category: automotive\\n'\n",
      "                          '- Listed Price: 925.0\\n'\n",
      "                          '- Description:\\n'\n",
      "                          'Product Description\\n'\n",
      "                          'Battle Born Batteries Lithium-Ion (LiFePO4) Deep '\n",
      "                          'Cycle 12V Battery 100Ah Battle Born Batteries '\n",
      "                          'Lithium-Ion (LiFePO4) Deep Cycle 12V Battery 100Ah '\n",
      "                          'GC2 Battle Born Batteries Lithium-Ion (LiFePO4) '\n",
      "                          'Deep Cycle 24V Battery 50Ah Battle Born Batteries '\n",
      "                          'Lithium-Ion (LiFePO4) Deep Cycle 12V Battery 270Ah '\n",
      "                          'GC3 Battle Born Batteries Lithium-Ion (LiFePO4) '\n",
      "                          'Deep Cycle 12V Battery 100Ah Heated Battle Born '\n",
      "                          'Batteries Lithium-Ion Deep Cycle 12V Battery 100Ah '\n",
      "                          'GC2 Heated\\n'\n",
      "                          'RV Battery ✓ ✓ ✓ ✓ ✓ ✓\\n'\n",
      "                          'Van Battery ✓ ✓ ✓ ✓ ✓ ✓\\n'\n",
      "                          'Marine Battery ✓ ✓ ✓ ✓ ✓ ✓\\n'\n",
      "                          'Off Grid Battery ✓ ✓ ✓ ✓ ✓ ✓\\n'\n",
      "                          'Made with Cylindrical Cells ✓ ✓ ✓ ✓ ✓ ✓\\n'\n",
      "                          'Amp Hours 100Ah 100Ah 50Ah 270Ah 100Ah 100Ah\\n'\n",
      "                          'Voltage 12V 12V 24V 12V 12V 12V\\n'\n",
      "                          'Internally Heated ✓ ✓\\n'\n",
      "                          'Weight 31 lbs 31 lbs 31 lbs 80.8 lbs 31 lbs 31 lbs\\n'\n",
      "                          'Dimensions 12.76 × 6.86 × 8.95 in 10.31 × 7.28 × '\n",
      "                          '11.02 in 12.75 × 6.87 × 9 in 22.83 × 7.09 × 13.15 '\n",
      "                          'in 12.76 × 6.86 × 8.95 in 10.31 × 7.28 × 11.02 in\\n'\n",
      "                          'Your target price is 925.0, and you aim to '\n",
      "                          'negotiate towards this amount.\\n'}\n"
     ]
    }
   ],
   "source": [
    "pprint(processed_data[0])"
   ]
  },
  {
   "cell_type": "code",
   "execution_count": 24,
   "metadata": {},
   "outputs": [],
   "source": [
    "with open(\"processed_data.json\", \"r\") as file:\n",
    "    processed_data = json.load(file)"
   ]
  },
  {
   "cell_type": "code",
   "execution_count": 25,
   "metadata": {},
   "outputs": [
    {
     "name": "stdout",
     "output_type": "stream",
     "text": [
      "{'buyer_initial_prompt': 'You are a buyer negotiating the purchase of an item '\n",
      "                         'titled: Battle Born Batteries Lithium-Ion (LiFePO4) '\n",
      "                         'Deep Cycle 12V Battery 100Ah – Safe & Powerful '\n",
      "                         'Drop-In Replacement for RV, Van, Marine, Off-Grid – '\n",
      "                         'Cylindrical Cells, Internal BMS.\\n'\n",
      "                         'Your objective is to get the best possible deal '\n",
      "                         'while maintaining a friendly and engaging '\n",
      "                         'conversation. \\n'\n",
      "                         'You have the following information about the item: \\n'\n",
      "                         '- Category: automotive\\n'\n",
      "                         '- Listed Price: 925.0\\n'\n",
      "                         '- Description:\\n'\n",
      "                         'Product Description\\n'\n",
      "                         'Battle Born Batteries Lithium-Ion (LiFePO4) Deep '\n",
      "                         'Cycle 12V Battery 100Ah Battle Born Batteries '\n",
      "                         'Lithium-Ion (LiFePO4) Deep Cycle 12V Battery 100Ah '\n",
      "                         'GC2 Battle Born Batteries Lithium-Ion (LiFePO4) Deep '\n",
      "                         'Cycle 24V Battery 50Ah Battle Born Batteries '\n",
      "                         'Lithium-Ion (LiFePO4) Deep Cycle 12V Battery 270Ah '\n",
      "                         'GC3 Battle Born Batteries Lithium-Ion (LiFePO4) Deep '\n",
      "                         'Cycle 12V Battery 100Ah Heated Battle Born Batteries '\n",
      "                         'Lithium-Ion Deep Cycle 12V Battery 100Ah GC2 Heated\\n'\n",
      "                         'RV Battery ✓ ✓ ✓ ✓ ✓ ✓\\n'\n",
      "                         'Van Battery ✓ ✓ ✓ ✓ ✓ ✓\\n'\n",
      "                         'Marine Battery ✓ ✓ ✓ ✓ ✓ ✓\\n'\n",
      "                         'Off Grid Battery ✓ ✓ ✓ ✓ ✓ ✓\\n'\n",
      "                         'Made with Cylindrical Cells ✓ ✓ ✓ ✓ ✓ ✓\\n'\n",
      "                         'Amp Hours 100Ah 100Ah 50Ah 270Ah 100Ah 100Ah\\n'\n",
      "                         'Voltage 12V 12V 24V 12V 12V 12V\\n'\n",
      "                         'Internally Heated ✓ ✓\\n'\n",
      "                         'Weight 31 lbs 31 lbs 31 lbs 80.8 lbs 31 lbs 31 lbs\\n'\n",
      "                         'Dimensions 12.76 × 6.86 × 8.95 in 10.31 × 7.28 × '\n",
      "                         '11.02 in 12.75 × 6.87 × 9 in 22.83 × 7.09 × 13.15 in '\n",
      "                         '12.76 × 6.86 × 8.95 in 10.31 × 7.28 × 11.02 in\\n'\n",
      "                         'Your target price is 795.0, and you aim to negotiate '\n",
      "                         'towards this amount.\\n',\n",
      " 'seller_initial_prompt': 'You are a seller negotiating the sale of an item '\n",
      "                          'titled: Battle Born Batteries Lithium-Ion (LiFePO4) '\n",
      "                          'Deep Cycle 12V Battery 100Ah – Safe & Powerful '\n",
      "                          'Drop-In Replacement for RV, Van, Marine, Off-Grid – '\n",
      "                          'Cylindrical Cells, Internal BMS.\\n'\n",
      "                          'Your objective is to get the best possible deal '\n",
      "                          'while maintaining a friendly and engaging '\n",
      "                          'conversation. \\n'\n",
      "                          'You have the following information about the '\n",
      "                          'item: \\n'\n",
      "                          '- Category: automotive\\n'\n",
      "                          '- Listed Price: 925.0\\n'\n",
      "                          '- Description:\\n'\n",
      "                          'Product Description\\n'\n",
      "                          'Battle Born Batteries Lithium-Ion (LiFePO4) Deep '\n",
      "                          'Cycle 12V Battery 100Ah Battle Born Batteries '\n",
      "                          'Lithium-Ion (LiFePO4) Deep Cycle 12V Battery 100Ah '\n",
      "                          'GC2 Battle Born Batteries Lithium-Ion (LiFePO4) '\n",
      "                          'Deep Cycle 24V Battery 50Ah Battle Born Batteries '\n",
      "                          'Lithium-Ion (LiFePO4) Deep Cycle 12V Battery 270Ah '\n",
      "                          'GC3 Battle Born Batteries Lithium-Ion (LiFePO4) '\n",
      "                          'Deep Cycle 12V Battery 100Ah Heated Battle Born '\n",
      "                          'Batteries Lithium-Ion Deep Cycle 12V Battery 100Ah '\n",
      "                          'GC2 Heated\\n'\n",
      "                          'RV Battery ✓ ✓ ✓ ✓ ✓ ✓\\n'\n",
      "                          'Van Battery ✓ ✓ ✓ ✓ ✓ ✓\\n'\n",
      "                          'Marine Battery ✓ ✓ ✓ ✓ ✓ ✓\\n'\n",
      "                          'Off Grid Battery ✓ ✓ ✓ ✓ ✓ ✓\\n'\n",
      "                          'Made with Cylindrical Cells ✓ ✓ ✓ ✓ ✓ ✓\\n'\n",
      "                          'Amp Hours 100Ah 100Ah 50Ah 270Ah 100Ah 100Ah\\n'\n",
      "                          'Voltage 12V 12V 24V 12V 12V 12V\\n'\n",
      "                          'Internally Heated ✓ ✓\\n'\n",
      "                          'Weight 31 lbs 31 lbs 31 lbs 80.8 lbs 31 lbs 31 lbs\\n'\n",
      "                          'Dimensions 12.76 × 6.86 × 8.95 in 10.31 × 7.28 × '\n",
      "                          '11.02 in 12.75 × 6.87 × 9 in 22.83 × 7.09 × 13.15 '\n",
      "                          'in 12.76 × 6.86 × 8.95 in 10.31 × 7.28 × 11.02 in\\n'\n",
      "                          'Your target price is 925.0, and you aim to '\n",
      "                          'negotiate towards this amount.\\n'}\n"
     ]
    }
   ],
   "source": [
    "pprint(processed_data[0])"
   ]
  }
 ],
 "metadata": {
  "kernelspec": {
   "display_name": "base",
   "language": "python",
   "name": "python3"
  },
  "language_info": {
   "codemirror_mode": {
    "name": "ipython",
    "version": 3
   },
   "file_extension": ".py",
   "mimetype": "text/x-python",
   "name": "python",
   "nbconvert_exporter": "python",
   "pygments_lexer": "ipython3",
   "version": "3.11.5"
  }
 },
 "nbformat": 4,
 "nbformat_minor": 2
}
